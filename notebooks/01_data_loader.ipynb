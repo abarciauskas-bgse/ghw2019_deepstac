{
 "cells": [
  {
   "cell_type": "markdown",
   "metadata": {},
   "source": [
    "# Import Modules and Path to Utilities"
   ]
  },
  {
   "cell_type": "code",
   "execution_count": 3,
   "metadata": {},
   "outputs": [],
   "source": [
    "import os\n",
    "import sys\n",
    "import numpy as np\n",
    "import pandas as pd\n",
    "import math\n",
    "from os.path import abspath\n",
    "import matplotlib.pyplot as plt\n",
    "import matplotlib\n",
    "from mpl_toolkits.axes_grid1 import make_axes_locatable\n",
    "matplotlib.rcParams['text.latex.unicode']=False\n",
    "from pysolar.solar import *\n",
    "import datetime\n",
    "from operator import add\n",
    "import pickle\n",
    "from sklearn.impute import SimpleImputer as Imputer\n",
    "from osgeo import gdal\n",
    "import richdem as rd\n",
    "\n",
    "imp = Imputer(strategy='mean')\n",
    "\n",
    "# --------------------- #\n",
    "# Lets Rips Some Treads #\n",
    "# --------------------- #\n",
    "\n",
    "from joblib import Parallel, delayed\n",
    "import multiprocessing\n",
    "num_cores = multiprocessing.cpu_count()\n",
    "\n",
    "\n",
    "if abspath('../utils/') not in sys.path:\n",
    "    sys.path.append(abspath('../utils/'))\n",
    "from utils import GetExtent"
   ]
  },
  {
   "cell_type": "markdown",
   "metadata": {},
   "source": [
    "### Define file path to files"
   ]
  },
  {
   "cell_type": "code",
   "execution_count": 4,
   "metadata": {},
   "outputs": [],
   "source": [
    "# from config import site_name\n",
    "SITENAME = 'tuolumne'\n",
    "YEAR = '2013'\n",
    "path_to_data = '../data/{0}/'.format(YEAR)\n",
    "files = os.listdir('../data/{0}'.format(YEAR))"
   ]
  },
  {
   "cell_type": "code",
   "execution_count": 5,
   "metadata": {},
   "outputs": [
    {
     "name": "stdout",
     "output_type": "stream",
     "text": [
      "Loading {0} 20130403_SUPERsnow_depth_3m_int.tif\n",
      "254007.0 4230330.0\n",
      "254007.0 4179324.0\n",
      "306714.0 4179324.0\n",
      "306714.0 4230330.0\n",
      "Loading {0} 20130525_SUPERsnow_depth_3m_int.tif\n",
      "254007.0 4230330.0\n",
      "254007.0 4179324.0\n",
      "306714.0 4179324.0\n",
      "306714.0 4230330.0\n",
      "Loading {0} 20130601_SUPERsnow_depth_3m_int.tif\n",
      "254007.0 4230330.0\n",
      "254007.0 4179324.0\n",
      "306714.0 4179324.0\n",
      "306714.0 4230330.0\n",
      "Loading {0} 20130608_SUPERsnow_depth_3m_int.tif\n",
      "254007.0 4230330.0\n",
      "254007.0 4179324.0\n",
      "306714.0 4179324.0\n",
      "306714.0 4230330.0\n",
      "Loading {0} 20130503_SUPERsnow_depth_3m_int.tif\n",
      "254007.0 4230330.0\n",
      "254007.0 4179324.0\n",
      "306714.0 4179324.0\n",
      "306714.0 4230330.0\n",
      "Loading {0} 20130429_SUPERsnow_depth_3m_int.tif\n",
      "254007.0 4230330.0\n",
      "254007.0 4179324.0\n",
      "306714.0 4179324.0\n",
      "306714.0 4230330.0\n"
     ]
    }
   ],
   "source": [
    "data = {}\n",
    "ext = {}\n",
    "for f in files: \n",
    "    print('Loading: {0}'.format(f))\n",
    "    llave = f.split('_')[0]\n",
    "    ds = gdal.Open(\n",
    "            os.path.join(\n",
    "                path_to_data, f\n",
    "            ), gdal.GA_ReadOnly\n",
    "        )\n",
    "    rb = ds.GetRasterBand(1)\n",
    "    data[llave] = rb.ReadAsArray()\n",
    "    data[llave] = np.where(data[llave]==None, np.nan, data[llave])\n",
    "    data[llave] = np.divide(data[llave],100)\n",
    "    gt=ds.GetGeoTransform()\n",
    "    cols = ds.RasterXSize\n",
    "    rows = ds.RasterYSize\n",
    "    ext[llave] = GetExtent(gt,cols,rows)\n",
    "    \n",
    "    \n"
   ]
  },
  {
   "cell_type": "code",
   "execution_count": 33,
   "metadata": {},
   "outputs": [
    {
     "name": "stdout",
     "output_type": "stream",
     "text": [
      "Unable to Plot: 20130403\n"
     ]
    },
    {
     "name": "stderr",
     "output_type": "stream",
     "text": [
      "/Users/joel.gongora/anaconda3/envs/deepsnow/lib/python3.6/site-packages/matplotlib/cbook/deprecation.py:106: MatplotlibDeprecationWarning: Adding an axes using the same arguments as a previous axes currently reuses the earlier instance.  In a future version, a new instance will always be created and returned.  Meanwhile, this warning can be suppressed, and the future behavior ensured, by passing a unique label to each axes instance.\n",
      "  warnings.warn(message, mplDeprecation, stacklevel=1)\n"
     ]
    },
    {
     "name": "stdout",
     "output_type": "stream",
     "text": [
      "Unable to Plot: 20130429\n",
      "Unable to Plot: 20130503\n",
      "Unable to Plot: 20130525\n",
      "Unable to Plot: 20130601\n",
      "Unable to Plot: 20130608\n"
     ]
    },
    {
     "data": {
      "image/png": "[encoded data removed]",
      "text/plain": [
       "<matplotlib.figure.Figure at 0x1a2e22a470>"
      ]
     },
     "metadata": {
      "needs_background": "light"
     },
     "output_type": "display_data"
    }
   ],
   "source": [
    "ix = 1\n",
    "llaves = list(np.sort(list(data.keys())))\n",
    "plt.figure(figsize=(10,18))\n",
    "for llave in llaves:\n",
    "    ax = plt.subplot(3,3,ix)\n",
    "    try:\n",
    "        cmap = 'jet'\n",
    "\n",
    "        im = ax.imshow(\n",
    "            data[llave],\n",
    "            extent=[\n",
    "                ext[llave][0][0] - 3,\n",
    "                ext[llave][2][0] - 3,\n",
    "                ext[llave][1][1] - 3,\n",
    "                ext[llave][0][1] - 3\n",
    "            ],\n",
    "            cmap=cmap\n",
    "        )\n",
    "        plt.title(llave)\n",
    "        if ix < 11:\n",
    "            plt.gca().axes.get_yaxis().set_visible(False)\n",
    "            plt.gca().axes.get_xaxis().set_visible(False)\n",
    "        else:\n",
    "            plt.xlabel('UTME')\n",
    "            plt.ylabel('UTMN')\n",
    "        cbar = plt.colorbar()\n",
    "        plt.subplots_adjust(left=None, bottom=None, right=None, wspace=None, hspace=0.25)\n",
    "        ix = ix + 1\n",
    "    except:\n",
    "        print('Unable to Plot: {0}'.format(llave))"
   ]
  },
  {
   "cell_type": "code",
   "execution_count": null,
   "metadata": {},
   "outputs": [],
   "source": []
  }
 ],
 "metadata": {
  "kernelspec": {
   "display_name": "Python 3",
   "language": "python",
   "name": "python3"
  },
  "language_info": {
   "codemirror_mode": {
    "name": "ipython",
    "version": 3
   },
   "file_extension": ".py",
   "mimetype": "text/x-python",
   "name": "python",
   "nbconvert_exporter": "python",
   "pygments_lexer": "ipython3",
   "version": "3.6.6"
  }
 },
 "nbformat": 4,
 "nbformat_minor": 4
}
