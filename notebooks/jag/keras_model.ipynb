{
 "cells": [
  {
   "cell_type": "code",
   "execution_count": 13,
   "metadata": {},
   "outputs": [],
   "source": [
    "import joblib\n",
    "import sys\n",
    "from os.path import abspath\n",
    "import numpy as np\n",
    "from sklearn.preprocessing import StandardScaler\n",
    "if abspath('../../utils/') not in sys.path:\n",
    "    sys.path.append(abspath('../../utils/'))\n",
    "from utils import GetExtent, ventana\n",
    "\n",
    "features = ['dem', 'vegh', 'slope', 'aspect', 'curvature']"
   ]
  },
  {
   "cell_type": "code",
   "execution_count": 2,
   "metadata": {},
   "outputs": [],
   "source": [
    "datos = joblib.load('../../processed/datos.joblib')"
   ]
  },
  {
   "cell_type": "markdown",
   "metadata": {},
   "source": [
    "### Print the Shapes of the arrays found in the dictionary."
   ]
  },
  {
   "cell_type": "code",
   "execution_count": 13,
   "metadata": {},
   "outputs": [
    {
     "name": "stdout",
     "output_type": "stream",
     "text": [
      "snowdepth (17002, 17569)\n",
      "vegh (17002, 17569, 1)\n",
      "dem (17002, 17569, 1)\n",
      "slope (17002, 17569, 1)\n",
      "aspect (17002, 17569, 1)\n",
      "curvature (17002, 17569, 1)\n"
     ]
    }
   ],
   "source": [
    "for llave, d in datos.items():\n",
    "    print(llave, d.shape)"
   ]
  },
  {
   "cell_type": "code",
   "execution_count": 14,
   "metadata": {},
   "outputs": [
    {
     "name": "stdout",
     "output_type": "stream",
     "text": [
      "(17002, 17569)\n",
      "(17002, 17569, 1)\n",
      "(17002, 17569, 1)\n",
      "(17002, 17569, 1)\n",
      "(17002, 17569, 1)\n",
      "(17002, 17569, 1)\n"
     ]
    }
   ],
   "source": [
    "for llave, d in datos.items():\n",
    "    print(d.shape)"
   ]
  },
  {
   "cell_type": "markdown",
   "metadata": {},
   "source": [
    "## Generate the X and Y for Keras"
   ]
  },
  {
   "cell_type": "code",
   "execution_count": 16,
   "metadata": {},
   "outputs": [],
   "source": [
    "X = np.stack([d for llave, d in datos.items() if llave != 'snowdepth'], axis=-1)\n",
    "Y = datos['snowdepth']"
   ]
  },
  {
   "cell_type": "markdown",
   "metadata": {},
   "source": [
    "This is kind of __hacky__ and needs to be reviewed"
   ]
  },
  {
   "cell_type": "code",
   "execution_count": 29,
   "metadata": {},
   "outputs": [],
   "source": [
    "X = np.swapaxes(X, -2, -1)\n",
    "\n",
    "X = X.squeeze(axis=-1)\n",
    "\n",
    "Y = np.expand_dims(Y, axis=-1)"
   ]
  },
  {
   "cell_type": "code",
   "execution_count": 31,
   "metadata": {},
   "outputs": [
    {
     "name": "stdout",
     "output_type": "stream",
     "text": [
      "(17002, 17569, 5)\n",
      "(17002, 17569, 1)\n"
     ]
    }
   ],
   "source": [
    "print(X.shape)\n",
    "print(Y.shape)"
   ]
  },
  {
   "cell_type": "code",
   "execution_count": 32,
   "metadata": {},
   "outputs": [],
   "source": [
    "Xlist = ventana(signal=X, kernel_size=(1000, 1000), stride=(1000, 1000))\n",
    "Ylist = ventana(signal=Y, kernel_size=(1000,1000), stride=(1000,1000))"
   ]
  },
  {
   "cell_type": "markdown",
   "metadata": {},
   "source": [
    "### Joblib the list of windows for Future use."
   ]
  },
  {
   "cell_type": "code",
   "execution_count": 33,
   "metadata": {},
   "outputs": [
    {
     "data": {
      "text/plain": [
       "['../../processed/XY.joblib']"
      ]
     },
     "execution_count": 33,
     "metadata": {},
     "output_type": "execute_result"
    }
   ],
   "source": [
    "joblib.dump([Xlist, Ylist], '../../processed/XY.joblib')  "
   ]
  },
  {
   "cell_type": "code",
   "execution_count": 2,
   "metadata": {},
   "outputs": [],
   "source": [
    "XX, *YY = joblib.load('../../processed/XY.joblib')"
   ]
  },
  {
   "cell_type": "code",
   "execution_count": 8,
   "metadata": {},
   "outputs": [],
   "source": [
    "XX = np.stack(XX, axis=0)\n",
    "YY = np.stack(YY, axis=0)"
   ]
  },
  {
   "cell_type": "code",
   "execution_count": 9,
   "metadata": {},
   "outputs": [
    {
     "data": {
      "text/plain": [
       "(289, 1000, 1000, 5)"
      ]
     },
     "execution_count": 9,
     "metadata": {},
     "output_type": "execute_result"
    }
   ],
   "source": [
    "XX.shape"
   ]
  },
  {
   "cell_type": "code",
   "execution_count": null,
   "metadata": {},
   "outputs": [],
   "source": [
    "Xout = {}\n",
    "Yout = {}\n",
    "UTMEout = {}\n",
    "UTMNout = {}\n",
    "ixs = {}\n",
    "train_per = .20\n",
    "# Permuter ---------------------------\n",
    "train_size = np.int(np.ceil(train_per * XX.shape[0]))\n",
    "permutation = np.random.permutation(XX.shape[0])\n",
    "ixs['train'] = permutation[:train_size]\n",
    "ixs['test'] = permutation[train_size:]\n",
    "\n",
    "# Trainset ------------------------\n",
    "Xout['train'] = XX[ixs['train'], :, :, :]\n",
    "Yout['train'] = YY[ixs['train'], :, :, :]\n",
    "# UTMEout['train'] = UTME[ixs['train'], :, :, :]\n",
    "# UTMNout['train'] = UTMN[ixs['train'], :, :, :]\n",
    "\n",
    "# Testset -------------------------\n",
    "Xout['test'] = XX[ixs['test'], :, :, :]\n",
    "Yout['test'] = YY[ixs['test'], :, :, :]\n",
    "\n",
    "# UTMEout['test'] = UTME[ixs['test'], :, :, :]\n",
    "# UTMNout['test'] = UTMN[ixs['test'], :, :, :]\n",
    "\n",
    "# Scale ------------------\n",
    "scaler = StandardScaler()\n",
    "Xtr_tmp = scaler.fit_transform(Xout['train'].reshape(-1, XX.shape[-1]))\n",
    "Xout['train'] = Xtr_tmp.reshape(Xout['train'].shape)\n",
    "Xte_tmp = scaler.transform(Xout['test'].reshape(-1, XX.shape[-1]))\n",
    "Xout['test'] = Xte_tmp.reshape(Xout['test'].shape)"
   ]
  },
  {
   "cell_type": "code",
   "execution_count": null,
   "metadata": {},
   "outputs": [],
   "source": []
  }
 ],
 "metadata": {
  "kernelspec": {
   "display_name": "Python [conda env:notebook] *",
   "language": "python",
   "name": "conda-env-notebook-py"
  },
  "language_info": {
   "codemirror_mode": {
    "name": "ipython",
    "version": 3
   },
   "file_extension": ".py",
   "mimetype": "text/x-python",
   "name": "python",
   "nbconvert_exporter": "python",
   "pygments_lexer": "ipython3",
   "version": "3.7.3"
  }
 },
 "nbformat": 4,
 "nbformat_minor": 4
}
