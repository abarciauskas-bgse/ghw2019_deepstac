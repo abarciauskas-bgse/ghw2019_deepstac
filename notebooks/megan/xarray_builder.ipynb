{
 "cells": [
  {
   "cell_type": "code",
   "execution_count": 1,
   "metadata": {},
   "outputs": [],
   "source": [
    "%matplotlib inline \n",
    "\n",
    "import numpy as np\n",
    "import pandas as pd\n",
    "import matplotlib.pyplot as plt\n",
    "import glob\n",
    "import os\n",
    "import time\n",
    "import xarray as xr"
   ]
  },
  {
   "cell_type": "code",
   "execution_count": 4,
   "metadata": {},
   "outputs": [
    {
     "name": "stdout",
     "output_type": "stream",
     "text": [
      "9\n"
     ]
    }
   ],
   "source": [
    "path = '/home/jovyan/shared/deep_stac/data/snowdepth/netcdf/2017/*int.nc'\n",
    "flist=glob.glob(path)\n",
    "\n",
    "print(len(flist))"
   ]
  },
  {
   "cell_type": "code",
   "execution_count": 9,
   "metadata": {},
   "outputs": [
    {
     "data": {
      "text/plain": [
       "<xarray.Dataset>\n",
       "Dimensions:              (time: 9, x: 17569, y: 17002)\n",
       "Coordinates:\n",
       "  * x                    (x) float64 2.54e+05 2.54e+05 ... 3.067e+05 3.067e+05\n",
       "  * y                    (y) float64 4.179e+06 4.179e+06 ... 4.23e+06 4.23e+06\n",
       "Dimensions without coordinates: time\n",
       "Data variables:\n",
       "    transverse_mercator  (time) |S1 b'' b'' b'' b'' b'' b'' b'' b'' b''\n",
       "    Band1                (time, y, x) float32 dask.array<shape=(9, 17002, 17569), chunksize=(1, 17002, 17569)>\n",
       "Attributes:\n",
       "    GDAL_AREA_OR_POINT:  Area\n",
       "    Conventions:         CF-1.5\n",
       "    GDAL:                GDAL 2.4.1, released 2019/03/15\n",
       "    history:             Wed Sep 11 15:46:45 2019: GDAL CreateCopy( /srv/shar..."
      ]
     },
     "execution_count": 9,
     "metadata": {},
     "output_type": "execute_result"
    }
   ],
   "source": [
    "ds=xr.open_mfdataset(flist , concat_dim='time') #dataset\n",
    "ds.close()\n",
    "ds"
   ]
  },
  {
   "cell_type": "code",
   "execution_count": 13,
   "metadata": {},
   "outputs": [
    {
     "data": {
      "text/plain": [
       "<xarray.Dataset>\n",
       "Dimensions:     (time: 1, x: 17569, y: 17002)\n",
       "Coordinates:\n",
       "  * y           (y) float32 4230327.0 4230324.0 ... 4179327.0 4179324.0\n",
       "  * x           (x) float32 254007.0 254010.0 254013.0 ... 306708.0 306711.0\n",
       "Dimensions without coordinates: time\n",
       "Data variables:\n",
       "    veg_height  (time, y, x) float32 0.0 0.0 0.0 0.0 0.0 ... 17.5 17.5 17.5 17.5\n",
       "    veg_tau     (time, y, x) float32 0.0 0.0 0.0 0.0 0.0 ... 0.0 0.0 0.0 0.0 0.0\n",
       "    veg_k       (time, y, x) float32 0.0 0.0 0.0 0.0 0.0 ... 0.0 0.0 0.0 0.0 0.0\n",
       "    veg_type    (time, y, x) uint32 3294 3294 3294 3294 ... 3033 3033 3033 3033\n",
       "    dem         (time, y, x) float32 2633.369 2635.3313 ... 3064.8484 3064.3577\n",
       "    mask        (time, y, x) uint8 0 0 0 0 0 0 0 0 0 0 0 ... 0 0 0 0 0 0 0 0 0 0\n",
       "    projection  (time) |S1 b''\n",
       "Attributes:\n",
       "    last_modified:       [2019-08-08 17:17:16] Data added or updated\n",
       "    Conventions:         CF-1.6\n",
       "    dateCreated:         2019-08-08 17:17:34\n",
       "    Title:               Topographic Images for SMRF/AWSM\n",
       "    history:             [2019-08-08 17:17:34] Create netCDF4 file using Basi...\n",
       "    institution:         USDA Agricultural Research Service, Northwest Waters...\n",
       "    generation_command:  /usr/local/bin/basin_setup -f corrected_tuolumne_sub..."
      ]
     },
     "execution_count": 13,
     "metadata": {},
     "output_type": "execute_result"
    }
   ],
   "source": [
    "topo = '/home/jovyan/shared/deep_stac/data/topo.nc'\n",
    "dstopo = xr.open_dataset(topo)\n",
    "dstopo.close()\n",
    "dstopo.expand_dims('time')"
   ]
  },
  {
   "cell_type": "code",
   "execution_count": 14,
   "metadata": {},
   "outputs": [
    {
     "data": {
      "text/plain": [
       "<xarray.Dataset>\n",
       "Dimensions:     (x: 17569, y: 17002)\n",
       "Coordinates:\n",
       "  * y           (y) float32 4230327.0 4230324.0 ... 4179327.0 4179324.0\n",
       "  * x           (x) float32 254007.0 254010.0 254013.0 ... 306708.0 306711.0\n",
       "Data variables:\n",
       "    veg_height  (y, x) float32 0.0 0.0 0.0 0.0 0.0 ... 17.5 17.5 17.5 17.5 17.5\n",
       "    veg_tau     (y, x) float32 0.0 0.0 0.0 0.0 0.0 0.0 ... 0.0 0.0 0.0 0.0 0.0\n",
       "    veg_k       (y, x) float32 0.0 0.0 0.0 0.0 0.0 0.0 ... 0.0 0.0 0.0 0.0 0.0\n",
       "    veg_type    (y, x) uint32 3294 3294 3294 3294 3294 ... 3033 3033 3033 3033\n",
       "    dem         (y, x) float32 2633.369 2635.3313 ... 3064.8484 3064.3577\n",
       "    mask        (y, x) uint8 0 0 0 0 0 0 0 0 0 0 0 0 ... 0 0 0 0 0 0 0 0 0 0 0 0\n",
       "    projection  |S1 b''\n",
       "Attributes:\n",
       "    last_modified:       [2019-08-08 17:17:16] Data added or updated\n",
       "    Conventions:         CF-1.6\n",
       "    dateCreated:         2019-08-08 17:17:34\n",
       "    Title:               Topographic Images for SMRF/AWSM\n",
       "    history:             [2019-08-08 17:17:34] Create netCDF4 file using Basi...\n",
       "    institution:         USDA Agricultural Research Service, Northwest Waters...\n",
       "    generation_command:  /usr/local/bin/basin_setup -f corrected_tuolumne_sub..."
      ]
     },
     "execution_count": 14,
     "metadata": {},
     "output_type": "execute_result"
    }
   ],
   "source": [
    "dstopo"
   ]
  },
  {
   "cell_type": "code",
   "execution_count": null,
   "metadata": {},
   "outputs": [],
   "source": []
  }
 ],
 "metadata": {
  "kernelspec": {
   "display_name": "Python 3",
   "language": "python",
   "name": "python3"
  },
  "language_info": {
   "codemirror_mode": {
    "name": "ipython",
    "version": 3
   },
   "file_extension": ".py",
   "mimetype": "text/x-python",
   "name": "python",
   "nbconvert_exporter": "python",
   "pygments_lexer": "ipython3",
   "version": "3.7.3"
  }
 },
 "nbformat": 4,
 "nbformat_minor": 4
}
